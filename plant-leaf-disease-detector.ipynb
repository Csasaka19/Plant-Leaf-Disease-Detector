{
 "cells": [
  {
   "cell_type": "code",
   "execution_count": 1,
   "id": "323bafcf",
   "metadata": {},
   "outputs": [],
   "source": [
    "# This are requirements for the upcoming code cells and project\n",
    "# Create a virtual environment intsall the requirements and select it as your kernel\n",
    "# python -m venv venv\n",
    "# source venv/bin/activate\n",
    "# pip install ipykernel matplotlib pandas numpy seaborn tensorflow Pillow\n",
    "# python -m ipykernel install --user --name=plant-leaf-disease-detector\n",
    "# jupyter notebook plant-leaf-disease-detector.ipynb\n"
   ]
  },
  {
   "cell_type": "code",
   "execution_count": null,
   "id": "3ce29fa8",
   "metadata": {
    "_cell_guid": "b1076dfc-b9ad-4769-8c92-a6c4dae69d19",
    "_uuid": "8f2839f25d086af736a60e9eeb907d3b93b6e0e5",
    "execution": {
     "iopub.execute_input": "2025-03-18T20:44:08.132092Z",
     "iopub.status.busy": "2025-03-18T20:44:08.131695Z",
     "iopub.status.idle": "2025-03-18T20:44:10.797687Z",
     "shell.execute_reply": "2025-03-18T20:44:10.796677Z"
    },
    "papermill": {
     "duration": 2.676644,
     "end_time": "2025-03-18T20:44:10.799663",
     "exception": false,
     "start_time": "2025-03-18T20:44:08.123019",
     "status": "completed"
    },
    "tags": []
   },
   "outputs": [],
   "source": [
    "import os\n",
    "import numpy as np\n",
    "import pandas as pd\n",
    "import matplotlib.pyplot as plt\n",
    "import seaborn as sns\n",
    "from PIL import Image\n",
    "import random\n",
    "import tensorflow as tf\n",
    "from tensorflow.keras.preprocessing.image import ImageDataGenerator\n",
    "from tensorflow.keras.preprocessing.image import img_to_array\n",
    "from tensorflow.keras.models import Sequential\n",
    "from tensorflow.keras.layers import Conv2D, MaxPooling2D, Flatten, Dense, Dropout, BatchNormalization\n",
    "from tensorflow.keras.preprocessing.image import ImageDataGenerator\n",
    "from tensorflow.keras.callbacks import EarlyStopping, ReduceLROnPlateau\n",
    "import json"
   ]
  },
  {
   "cell_type": "code",
   "execution_count": null,
   "id": "98d33761",
   "metadata": {
    "execution": {
     "iopub.execute_input": "2025-03-18T20:44:10.809170Z",
     "iopub.status.busy": "2025-03-18T20:44:10.808632Z",
     "iopub.status.idle": "2025-03-18T20:44:10.842055Z",
     "shell.execute_reply": "2025-03-18T20:44:10.840678Z"
    },
    "papermill": {
     "duration": 0.04001,
     "end_time": "2025-03-18T20:44:10.843980",
     "exception": false,
     "start_time": "2025-03-18T20:44:10.803970",
     "status": "completed"
    },
    "tags": []
   },
   "outputs": [],
   "source": [
    "# Add these lines to check the kernel's perspective\n",
    "print(f\"Kernel Current Working Directory: {os.getcwd()}\")\n",
    "print(f\"Contents of CWD: {os.listdir('.')}\")\n",
    "\n",
    "# --- Existing code follows ---\n",
    "base_path = '.'\n",
    "train_path = os.path.join(base_path, 'Train')\n",
    "test_path = os.path.join(base_path, 'Test')\n",
    "validation_path = os.path.join(base_path, 'Validation')\n",
    "\n",
    "# List the classes (subdirectories) within the Train directory\n",
    "categories = []\n",
    "if os.path.exists(train_path) and os.path.isdir(train_path):\n",
    "    try:\n",
    "        categories = sorted([d for d in os.listdir(train_path) if os.path.isdir(os.path.join(train_path, d))])\n",
    "        print(f\"Categories found (from ./Train): {categories}\") # Modified print statement for clarity\n",
    "    except Exception as e:\n",
    "        print(f\"Error listing categories in {train_path}: {e}\")\n",
    "        categories = ['Healthy', 'Powdery', 'Rust'] # Fallback\n",
    "        print(f\"Using default categories due to error.\")\n",
    "else:\n",
    "    print(f\"Error: Training path not found or not a directory at '{train_path}'\")\n",
    "    categories = ['Healthy', 'Powdery', 'Rust'] # Fallback\n",
    "    print(f\"Using default categories.\")\n"
   ]
  },
  {
   "cell_type": "markdown",
   "id": "3e9f27b1",
   "metadata": {
    "papermill": {
     "duration": 0.00353,
     "end_time": "2025-03-18T20:44:10.851407",
     "exception": false,
     "start_time": "2025-03-18T20:44:10.847877",
     "status": "completed"
    },
    "tags": []
   },
   "source": [
    "**Step 1:** ***Data preview and Validation***"
   ]
  },
  {
   "cell_type": "code",
   "execution_count": null,
   "id": "4daed6e1",
   "metadata": {
    "execution": {
     "iopub.execute_input": "2025-03-18T20:44:10.860579Z",
     "iopub.status.busy": "2025-03-18T20:44:10.860150Z",
     "iopub.status.idle": "2025-03-18T20:44:11.109127Z",
     "shell.execute_reply": "2025-03-18T20:44:11.108041Z"
    },
    "papermill": {
     "duration": 0.25579,
     "end_time": "2025-03-18T20:44:11.110945",
     "exception": false,
     "start_time": "2025-03-18T20:44:10.855155",
     "status": "completed"
    },
    "tags": []
   },
   "outputs": [],
   "source": [
    "   \n",
    "\n",
    "# Paths (train_path, test_path, validation_path) and categories\n",
    "        # should be defined from the previous cell\n",
    "\n",
    "        # Function to check and print the number of images in each category\n",
    "def check_image_counts(path, set_name, categories):\n",
    "    print(f\"\\\\nChecking {set_name} set at '{path}':\")\n",
    "    if not os.path.exists(path) or not os.path.isdir(path):\n",
    "        print(f\"  Warning: Path does not exist or is not a directory.\")\n",
    "        return\n",
    "    for category in categories:\n",
    "        category_path = os.path.join(path, category)\n",
    "        if os.path.exists(category_path) and os.path.isdir(category_path):\n",
    "            try:\n",
    "                        # Count only files, ignore potential subdirectories\n",
    "                num_images = len([f for f in os.listdir(category_path) if os.path.isfile(os.path.join(category_path, f))])\n",
    "                print(f\"  {category}: {num_images} images\")\n",
    "            except Exception as e:\n",
    "                print(f\"  Error counting images in {category_path}: {e}\")\n",
    "        else:\n",
    "            print(f\"  Warning: Category path '{category_path}' not found or not a directory.\")\n",
    "\n",
    "        # Check counts if categories were successfully found\n",
    "if 'categories' in locals() and categories:\n",
    "    check_image_counts(train_path, 'Train', categories)\n",
    "    check_image_counts(test_path, 'Test', categories)\n",
    "    check_image_counts(validation_path, 'Validation', categories)\n",
    "else:\n",
    "    print(\"\\\\nSkipping image count checks because categories could not be determined.\")"
   ]
  },
  {
   "cell_type": "code",
   "execution_count": null,
   "id": "05de1d1b",
   "metadata": {
    "execution": {
     "iopub.execute_input": "2025-03-18T20:44:11.120269Z",
     "iopub.status.busy": "2025-03-18T20:44:11.119902Z",
     "iopub.status.idle": "2025-03-18T20:44:11.195331Z",
     "shell.execute_reply": "2025-03-18T20:44:11.194183Z"
    },
    "papermill": {
     "duration": 0.082077,
     "end_time": "2025-03-18T20:44:11.197221",
     "exception": false,
     "start_time": "2025-03-18T20:44:11.115144",
     "status": "completed"
    },
    "tags": []
   },
   "outputs": [],
   "source": [
    "dataset_base_path = './Plant disease dataset/' \n",
    "\n",
    "# Define the paths for Train, Test, and Validation sets within this dataset\n",
    "train_path_ds = os.path.join(dataset_base_path, 'Train')\n",
    "test_path_ds = os.path.join(dataset_base_path, 'Test')\n",
    "validation_path_ds = os.path.join(dataset_base_path, 'Validation')\n",
    "\n",
    "# Determine categories (assuming they are subfolders in the Train directory)\n",
    "categories_ds = []\n",
    "if os.path.exists(train_path_ds) and os.path.isdir(train_path_ds):\n",
    "    try:\n",
    "        # Get subdirectories and sort them\n",
    "        categories_ds = sorted([d for d in os.listdir(train_path_ds) if os.path.isdir(os.path.join(train_path_ds, d))])\n",
    "        print(f\"Categories found in '{train_path_ds}': {categories_ds}\")\n",
    "    except Exception as e:\n",
    "         print(f\"Error listing categories in {train_path_ds}: {e}\")\n",
    "         categories_ds = [] # Important: Reset categories on error\n",
    "         print(f\"Could not determine categories due to error.\")\n",
    "else:\n",
    "    print(f\"Warning: Training path for this dataset not found or not a directory at '{train_path_ds}'\")\n",
    "    categories_ds = [] # No categories if path doesn't exist\n",
    "\n",
    "# Function to check and print the number of images in each category\n",
    "# Renamed to avoid conflict if the main check_image_counts exists elsewhere\n",
    "def check_image_counts_specific_ds(path, set_name, categories):\n",
    "    print(f\"\\nChecking {set_name} set at '{path}':\")\n",
    "    if not categories:\n",
    "        print(\"  Skipping count check as categories were not determined.\")\n",
    "        return\n",
    "    if not os.path.exists(path) or not os.path.isdir(path):\n",
    "        print(f\"  Warning: Path does not exist or is not a directory.\")\n",
    "        return\n",
    "\n",
    "    for category in categories:\n",
    "        category_path = os.path.join(path, category)\n",
    "        if os.path.exists(category_path) and os.path.isdir(category_path):\n",
    "            try:\n",
    "                # Count only files, ignore subdirectories\n",
    "                num_images = len([f for f in os.listdir(category_path) if os.path.isfile(os.path.join(category_path, f))])\n",
    "                print(f\"  {category}: {num_images} images\")\n",
    "            except Exception as e:\n",
    "                print(f\"  Error counting images in {category_path}: {e}\")\n",
    "        else:\n",
    "            print(f\"  Warning: Category path '{category_path}' not found or not a directory.\")\n",
    "\n",
    "# Check the counts only if categories were successfully determined\n",
    "if categories_ds:\n",
    "    check_image_counts_specific_ds(train_path_ds, 'Train (Plant disease dataset)', categories_ds)\n",
    "    check_image_counts_specific_ds(test_path_ds, 'Test (Plant disease dataset)', categories_ds)\n",
    "    check_image_counts_specific_ds(validation_path_ds, 'Validation (Plant disease dataset)', categories_ds)\n",
    "elif os.path.exists(dataset_base_path):\n",
    "     print(f\"\\nSkipping image count checks for '{dataset_base_path}' because categories could not be determined (e.g., missing Train subfolder or read error).\")\n",
    "# No message if the base path itself doesn't exist, as the earlier warning covers it.\n"
   ]
  },
  {
   "cell_type": "markdown",
   "id": "605139ac",
   "metadata": {
    "papermill": {
     "duration": 0.003747,
     "end_time": "2025-03-18T20:44:11.205226",
     "exception": false,
     "start_time": "2025-03-18T20:44:11.201479",
     "status": "completed"
    },
    "tags": []
   },
   "source": [
    "**Step 2: *Data Understanding***"
   ]
  },
  {
   "cell_type": "code",
   "execution_count": null,
   "id": "c9623a02",
   "metadata": {
    "execution": {
     "iopub.execute_input": "2025-03-18T20:44:11.214594Z",
     "iopub.status.busy": "2025-03-18T20:44:11.214204Z",
     "iopub.status.idle": "2025-03-18T20:44:28.189286Z",
     "shell.execute_reply": "2025-03-18T20:44:28.188141Z"
    },
    "papermill": {
     "duration": 16.989856,
     "end_time": "2025-03-18T20:44:28.199080",
     "exception": false,
     "start_time": "2025-03-18T20:44:11.209224",
     "status": "completed"
    },
    "tags": []
   },
   "outputs": [],
   "source": [
    "# Define dataset paths (updated paths)\n",
    "dataset_paths = {\n",
    "    \"Dataset 1\": \"./Train\",\n",
    "    \"Dataset 2\": \"./Plant disease dataset/Train\"\n",
    "}\n",
    "\n",
    "# Categories in the dataset (Healthy, Rust, Powdery)\n",
    "categories = ['Healthy', 'Powdery', 'Rust']\n",
    "\n",
    "# Function to display sample images from each category\n",
    "def display_sample_images(dataset_name, path, category, num_images=3):\n",
    "    category_path = os.path.join(path, category)\n",
    "    \n",
    "    if not os.path.exists(category_path):  # Ensure category exists\n",
    "        print(f\"Warning: {category_path} not found in {dataset_name}!\")\n",
    "        return\n",
    "    \n",
    "    images = os.listdir(category_path)\n",
    "    \n",
    "    if len(images) < num_images:  # Ensure enough images are available\n",
    "        print(f\"Warning: Not enough images in {category_path} for sampling!\")\n",
    "        num_images = len(images)  # Adjust to available images\n",
    "    \n",
    "    sample_images = random.sample(images, num_images) if images else []\n",
    "    \n",
    "    fig, axes = plt.subplots(1, num_images, figsize=(15, 5))\n",
    "    fig.suptitle(f\"{dataset_name} - {category}\", fontsize=14)\n",
    "    \n",
    "    for i, image_file in enumerate(sample_images):\n",
    "        img = Image.open(os.path.join(category_path, image_file))\n",
    "        axes[i].imshow(img)\n",
    "        axes[i].axis('off')\n",
    "        axes[i].set_title(f\"Sample {i+1}\")\n",
    "    \n",
    "    plt.show()\n",
    "\n",
    "# Iterate through both datasets and display sample images for each category\n",
    "for dataset_name, train_path in dataset_paths.items():\n",
    "    print(f\"\\nDisplaying sample images from {dataset_name} Training Set:\\n\")\n",
    "    for category in categories:\n",
    "        display_sample_images(dataset_name, train_path, category)\n"
   ]
  },
  {
   "cell_type": "markdown",
   "id": "b5a34d7b",
   "metadata": {
    "papermill": {
     "duration": 0.084935,
     "end_time": "2025-03-18T20:44:28.370107",
     "exception": false,
     "start_time": "2025-03-18T20:44:28.285172",
     "status": "completed"
    },
    "tags": []
   },
   "source": [
    "**Step 3: *Data Cleaning***"
   ]
  },
  {
   "cell_type": "code",
   "execution_count": null,
   "id": "e78e7527",
   "metadata": {
    "execution": {
     "iopub.execute_input": "2025-03-18T20:44:28.531962Z",
     "iopub.status.busy": "2025-03-18T20:44:28.531564Z",
     "iopub.status.idle": "2025-03-18T20:45:02.664601Z",
     "shell.execute_reply": "2025-03-18T20:45:02.663157Z"
    },
    "papermill": {
     "duration": 34.21614,
     "end_time": "2025-03-18T20:45:02.666550",
     "exception": false,
     "start_time": "2025-03-18T20:44:28.450410",
     "status": "completed"
    },
    "tags": []
   },
   "outputs": [],
   "source": [
    "# Define dataset paths (including train, test, and validation)\n",
    "dataset_paths = {\n",
    "    \"Dataset 1\": \"./\",\n",
    "    \"Dataset 2\": \"./Plant disease dataset\"\n",
    "}\n",
    "\n",
    "# Define the subdirectories for each dataset (specific paths for each dataset)\n",
    "data_types_1 = [\"Train/\", \"Test/\", \"Validation/\"]  # Dataset 1 structure\n",
    "data_types_2 = [\"Train\", \"Test\", \"Validation\"]  # Dataset 2 structure\n",
    "\n",
    "# Categories in the dataset (Healthy, Powdery, Rust)\n",
    "categories = ['Healthy', 'Powdery', 'Rust']\n",
    "\n",
    "# Function to check for corrupted images\n",
    "def check_corrupted_images(dataset_name, path, categories, data_type):\n",
    "    corrupted_images = []\n",
    "    for category in categories:\n",
    "        # Handling dataset 1 (nested \"Train/Train\", \"Test/Test\", etc.)\n",
    "        if dataset_name == \"Dataset 1\":\n",
    "            category_path = os.path.join(path, data_type, category)  # For Dataset 1\n",
    "        # Handling dataset 2 (non-nested \"Train\", \"Test\", \"Validation\")\n",
    "        elif dataset_name == \"Dataset 2\":\n",
    "            category_path = os.path.join(path, data_type, category)  # For Dataset 2\n",
    "        \n",
    "        if not os.path.exists(category_path):\n",
    "            print(f\"Warning: {category_path} not found in {dataset_name}!\")\n",
    "            continue\n",
    "        \n",
    "        for image_name in os.listdir(category_path):\n",
    "            img_path = os.path.join(category_path, image_name)\n",
    "            \n",
    "            try:\n",
    "                img = Image.open(img_path)  # Try to open the image\n",
    "                img.verify()  # Verify the image file\n",
    "            except (IOError, SyntaxError) as e:\n",
    "                corrupted_images.append(img_path)  # If error occurs, add to list\n",
    "\n",
    "    # Print results\n",
    "    if corrupted_images:\n",
    "        print(f\"\\nCorrupted images found in {dataset_name}: {len(corrupted_images)}\")\n",
    "        for img_path in corrupted_images:\n",
    "            print(f\"  Corrupted image: {img_path}\")\n",
    "    else:\n",
    "        print(f\"\\nNo corrupted images found in {dataset_name}.\")\n",
    "\n",
    "# Iterate over datasets and check for corrupted images in Train, Test, and Validation sets\n",
    "for dataset_name, dataset_path in dataset_paths.items():\n",
    "    print(f\"\\nChecking for corrupted images in {dataset_name}:\")\n",
    "    if dataset_name == \"Dataset 1\":\n",
    "        # Dataset 1 has nested \"Train/Train\", \"Test/Test\", etc.\n",
    "        data_types = data_types_1\n",
    "    else:\n",
    "        # Dataset 2 has flat \"Train\", \"Test\", \"Validation\"\n",
    "        data_types = data_types_2\n",
    "        \n",
    "    for data_type in data_types:\n",
    "        print(f\"\\nChecking {data_type} set:\")\n",
    "        check_corrupted_images(dataset_name, dataset_path, categories, data_type)\n"
   ]
  },
  {
   "cell_type": "markdown",
   "id": "d9e643e3",
   "metadata": {
    "papermill": {
     "duration": 0.080004,
     "end_time": "2025-03-18T20:45:02.826766",
     "exception": false,
     "start_time": "2025-03-18T20:45:02.746762",
     "status": "completed"
    },
    "tags": []
   },
   "source": [
    "**Step 4: *Data Visualization***"
   ]
  },
  {
   "cell_type": "code",
   "execution_count": null,
   "id": "32201846",
   "metadata": {
    "execution": {
     "iopub.execute_input": "2025-03-18T20:45:02.993382Z",
     "iopub.status.busy": "2025-03-18T20:45:02.992803Z",
     "iopub.status.idle": "2025-03-18T20:45:07.643044Z",
     "shell.execute_reply": "2025-03-18T20:45:07.641693Z"
    },
    "papermill": {
     "duration": 4.764619,
     "end_time": "2025-03-18T20:45:07.675593",
     "exception": false,
     "start_time": "2025-03-18T20:45:02.910974",
     "status": "completed"
    },
    "tags": []
   },
   "outputs": [],
   "source": [
    "# Define dataset paths (including train, test, and validation)\n",
    "dataset_paths = {\n",
    "    \"Dataset 1\": \"./\",\n",
    "    \"Dataset 2\": \"./Plant disease dataset\"\n",
    "}\n",
    "\n",
    "# Define the subdirectories for each dataset (specific paths for each dataset)\n",
    "data_types_1 = [\"Train/\", \"Test/\", \"Validation/\"]  # Dataset 1 structure\n",
    "data_types_2 = [\"Train\", \"Test\", \"Validation\"]  # Dataset 2 structure\n",
    "\n",
    "# Categories in the dataset (Healthy, Powdery, Rust)\n",
    "categories = ['Healthy', 'Powdery', 'Rust']\n",
    "\n",
    "# Function to get the count of images in each category\n",
    "def get_category_counts(dataset_name, path, categories, data_type):\n",
    "    counts = {category: 0 for category in categories}\n",
    "    for category in categories:\n",
    "        # Handling dataset 1 (nested \"Train/Train\", \"Test/Test\", etc.)\n",
    "        if dataset_name == \"Dataset 1\":\n",
    "            category_path = os.path.join(path, data_type, category)\n",
    "        # Handling dataset 2 (non-nested \"Train\", \"Test\", \"Validation\")\n",
    "        elif dataset_name == \"Dataset 2\":\n",
    "            category_path = os.path.join(path, data_type, category)\n",
    "        \n",
    "        if os.path.exists(category_path):\n",
    "            counts[category] = len(os.listdir(category_path))\n",
    "    return counts\n",
    "\n",
    "# Function to display sample images from each category\n",
    "def display_sample_images(dataset_name, path, categories, data_type):\n",
    "    plt.figure(figsize=(12, 12))\n",
    "    for idx, category in enumerate(categories):\n",
    "        # Handling dataset 1 (nested \"Train/Train\", \"Test/Test\", etc.)\n",
    "        if dataset_name == \"Dataset 1\":\n",
    "            category_path = os.path.join(path, data_type, category)\n",
    "        # Handling dataset 2 (non-nested \"Train\", \"Test\", \"Validation\")\n",
    "        elif dataset_name == \"Dataset 2\":\n",
    "            category_path = os.path.join(path, data_type, category)\n",
    "        \n",
    "        if os.path.exists(category_path):\n",
    "            image_list = os.listdir(category_path)\n",
    "            sample_images = random.sample(image_list, 3)  # Show 3 random images from each category\n",
    "            \n",
    "            for i, img_name in enumerate(sample_images):\n",
    "                img_path = os.path.join(category_path, img_name)\n",
    "                img = Image.open(img_path)\n",
    "                plt.subplot(len(categories), 3, idx * 3 + i + 1)\n",
    "                plt.imshow(img)\n",
    "                plt.title(f\"{category} {i+1}\")\n",
    "                plt.axis('off')\n",
    "    \n",
    "    plt.tight_layout()\n",
    "    plt.show()\n",
    "\n",
    "# Iterate over datasets and visualize the data\n",
    "for dataset_name, dataset_path in dataset_paths.items():\n",
    "    print(f\"\\nVisualizing data for {dataset_name}:\")\n",
    "\n",
    "    # 1. Image Count per Category (Train, Test, Validation)\n",
    "    plt.figure(figsize=(10, 6))\n",
    "    for data_type in (data_types_1 if dataset_name == \"Dataset 1\" else data_types_2):\n",
    "        counts = get_category_counts(dataset_name, dataset_path, categories, data_type)\n",
    "        sns.barplot(x=list(counts.keys()), y=list(counts.values()))\n",
    "        plt.title(f\"{data_type} Set - {dataset_name}\")\n",
    "        plt.xlabel(\"Category\")\n",
    "        plt.ylabel(\"Number of Images\")\n",
    "        plt.show()\n",
    "\n",
    "    # 2. Display Sample Images from each category in the Train set\n",
    "    print(f\"Displaying sample images from {dataset_name} Train set:\")\n",
    "    display_sample_images(dataset_name, dataset_path, categories, \"Train\")\n"
   ]
  },
  {
   "cell_type": "markdown",
   "id": "e354cda8",
   "metadata": {
    "papermill": {
     "duration": 0.136175,
     "end_time": "2025-03-18T20:45:07.949345",
     "exception": false,
     "start_time": "2025-03-18T20:45:07.813170",
     "status": "completed"
    },
    "tags": []
   },
   "source": [
    "**Step 5: *Data Augmentation***"
   ]
  },
  {
   "cell_type": "code",
   "execution_count": null,
   "id": "32bfd8a9",
   "metadata": {
    "execution": {
     "iopub.execute_input": "2025-03-18T20:45:08.215126Z",
     "iopub.status.busy": "2025-03-18T20:45:08.214734Z",
     "iopub.status.idle": "2025-03-18T20:45:33.070565Z",
     "shell.execute_reply": "2025-03-18T20:45:33.069415Z"
    },
    "papermill": {
     "duration": 25.025438,
     "end_time": "2025-03-18T20:45:33.106218",
     "exception": false,
     "start_time": "2025-03-18T20:45:08.080780",
     "status": "completed"
    },
    "tags": []
   },
   "outputs": [],
   "source": [
    "# Define dataset paths (Train)\n",
    "dataset_paths = {\n",
    "    \"Dataset 1\": \"./\",\n",
    "    \"Dataset 2\": \"./Plant disease dataset/\"\n",
    "}\n",
    "\n",
    "# Categories in the dataset (Healthy, Powdery, Rust)\n",
    "categories = ['Healthy', 'Powdery', 'Rust']\n",
    "\n",
    "# Augmentation settings using ImageDataGenerator\n",
    "datagen = ImageDataGenerator(\n",
    "    rotation_range=40,   # Random rotation up to 40 degrees\n",
    "    horizontal_flip=True # Random horizontal flip\n",
    ")\n",
    "\n",
    "# Function to augment and display images\n",
    "def augment_and_display_images(dataset_name, path, categories, data_type, num_images=3):\n",
    "    plt.figure(figsize=(12, 12))\n",
    "    \n",
    "    for idx, category in enumerate(categories):\n",
    "        # Get category path for Dataset 1 and Dataset 2\n",
    "        category_path = os.path.join(path, data_type, category) if dataset_name == \"Dataset 1\" else os.path.join(path, data_type, category)\n",
    "        \n",
    "        if os.path.exists(category_path):\n",
    "            image_list = os.listdir(category_path)\n",
    "            sample_images = random.sample(image_list, num_images)  # Select 3 random images\n",
    "\n",
    "            for i, img_name in enumerate(sample_images):\n",
    "                img_path = os.path.join(category_path, img_name)\n",
    "                img = Image.open(img_path)\n",
    "                img_array = img_to_array(img)  # Convert image to array\n",
    "\n",
    "                # Reshape image for ImageDataGenerator (expects 4D tensor: (1, height, width, channels))\n",
    "                img_array = img_array.reshape((1,) + img_array.shape)\n",
    "\n",
    "                # Generate augmented images and display\n",
    "                for j, batch in enumerate(datagen.flow(img_array, batch_size=1)):\n",
    "                    augmented_img = batch[0].astype('uint8')  # Convert to uint8 for display\n",
    "                    plt.subplot(len(categories), num_images, idx * num_images + i + 1)\n",
    "                    plt.imshow(augmented_img)\n",
    "                    plt.title(f\"{category} Aug {i+1}\")\n",
    "                    plt.axis('off')\n",
    "                    if j >= 2:  # Stop after 3 augmented images\n",
    "                        break\n",
    "    \n",
    "    plt.tight_layout()\n",
    "    plt.show()\n",
    "\n",
    "# Apply data augmentation and display augmented images\n",
    "for dataset_name, dataset_path in dataset_paths.items():\n",
    "    print(f\"\\nPerforming data augmentation for {dataset_name}:\")\n",
    "    augment_and_display_images(dataset_name, dataset_path, categories, \"Train\")\n"
   ]
  },
  {
   "cell_type": "markdown",
   "id": "0c886a6b",
   "metadata": {},
   "source": [
    "**Step 6: *Model Definition and Training***"
   ]
  },
  {
   "cell_type": "code",
   "execution_count": 14,
   "id": "96d2bb4c",
   "metadata": {},
   "outputs": [
    {
     "name": "stdout",
     "output_type": "stream",
     "text": [
      "Loading training images from: ./Plant disease dataset/Train\n",
      "Found 307 images belonging to 3 classes.\n",
      "Loading validation images from: ./Validation\n",
      "Found 60 images belonging to 3 classes.\n",
      "Loading test images from: ./Test\n",
      "Found 150 images belonging to 3 classes.\n"
     ]
    },
    {
     "name": "stderr",
     "output_type": "stream",
     "text": [
      "/home/sasaka-jr/Plant-Leaf-Disease-Detector/.venv/lib/python3.12/site-packages/keras/src/layers/convolutional/base_conv.py:107: UserWarning: Do not pass an `input_shape`/`input_dim` argument to a layer. When using Sequential models, prefer using an `Input(shape)` object as the first layer in the model instead.\n",
      "  super().__init__(activity_regularizer=activity_regularizer, **kwargs)\n",
      "2025-04-07 14:15:19.114364: E external/local_xla/xla/stream_executor/cuda/cuda_platform.cc:51] failed call to cuInit: INTERNAL: CUDA error: Failed call to cuInit: UNKNOWN ERROR (303)\n"
     ]
    },
    {
     "data": {
      "text/html": [
       "<pre style=\"white-space:pre;overflow-x:auto;line-height:normal;font-family:Menlo,'DejaVu Sans Mono',consolas,'Courier New',monospace\"><span style=\"font-weight: bold\">Model: \"sequential\"</span>\n",
       "</pre>\n"
      ],
      "text/plain": [
       "\u001b[1mModel: \"sequential\"\u001b[0m\n"
      ]
     },
     "metadata": {},
     "output_type": "display_data"
    },
    {
     "data": {
      "text/html": [
       "<pre style=\"white-space:pre;overflow-x:auto;line-height:normal;font-family:Menlo,'DejaVu Sans Mono',consolas,'Courier New',monospace\">┏━━━━━━━━━━━━━━━━━━━━━━━━━━━━━━━━━┳━━━━━━━━━━━━━━━━━━━━━━━━┳━━━━━━━━━━━━━━━┓\n",
       "┃<span style=\"font-weight: bold\"> Layer (type)                    </span>┃<span style=\"font-weight: bold\"> Output Shape           </span>┃<span style=\"font-weight: bold\">       Param # </span>┃\n",
       "┡━━━━━━━━━━━━━━━━━━━━━━━━━━━━━━━━━╇━━━━━━━━━━━━━━━━━━━━━━━━╇━━━━━━━━━━━━━━━┩\n",
       "│ conv2d (<span style=\"color: #0087ff; text-decoration-color: #0087ff\">Conv2D</span>)                 │ (<span style=\"color: #00d7ff; text-decoration-color: #00d7ff\">None</span>, <span style=\"color: #00af00; text-decoration-color: #00af00\">126</span>, <span style=\"color: #00af00; text-decoration-color: #00af00\">126</span>, <span style=\"color: #00af00; text-decoration-color: #00af00\">32</span>)   │           <span style=\"color: #00af00; text-decoration-color: #00af00\">896</span> │\n",
       "├─────────────────────────────────┼────────────────────────┼───────────────┤\n",
       "│ batch_normalization             │ (<span style=\"color: #00d7ff; text-decoration-color: #00d7ff\">None</span>, <span style=\"color: #00af00; text-decoration-color: #00af00\">126</span>, <span style=\"color: #00af00; text-decoration-color: #00af00\">126</span>, <span style=\"color: #00af00; text-decoration-color: #00af00\">32</span>)   │           <span style=\"color: #00af00; text-decoration-color: #00af00\">128</span> │\n",
       "│ (<span style=\"color: #0087ff; text-decoration-color: #0087ff\">BatchNormalization</span>)            │                        │               │\n",
       "├─────────────────────────────────┼────────────────────────┼───────────────┤\n",
       "│ max_pooling2d (<span style=\"color: #0087ff; text-decoration-color: #0087ff\">MaxPooling2D</span>)    │ (<span style=\"color: #00d7ff; text-decoration-color: #00d7ff\">None</span>, <span style=\"color: #00af00; text-decoration-color: #00af00\">63</span>, <span style=\"color: #00af00; text-decoration-color: #00af00\">63</span>, <span style=\"color: #00af00; text-decoration-color: #00af00\">32</span>)     │             <span style=\"color: #00af00; text-decoration-color: #00af00\">0</span> │\n",
       "├─────────────────────────────────┼────────────────────────┼───────────────┤\n",
       "│ conv2d_1 (<span style=\"color: #0087ff; text-decoration-color: #0087ff\">Conv2D</span>)               │ (<span style=\"color: #00d7ff; text-decoration-color: #00d7ff\">None</span>, <span style=\"color: #00af00; text-decoration-color: #00af00\">61</span>, <span style=\"color: #00af00; text-decoration-color: #00af00\">61</span>, <span style=\"color: #00af00; text-decoration-color: #00af00\">64</span>)     │        <span style=\"color: #00af00; text-decoration-color: #00af00\">18,496</span> │\n",
       "├─────────────────────────────────┼────────────────────────┼───────────────┤\n",
       "│ batch_normalization_1           │ (<span style=\"color: #00d7ff; text-decoration-color: #00d7ff\">None</span>, <span style=\"color: #00af00; text-decoration-color: #00af00\">61</span>, <span style=\"color: #00af00; text-decoration-color: #00af00\">61</span>, <span style=\"color: #00af00; text-decoration-color: #00af00\">64</span>)     │           <span style=\"color: #00af00; text-decoration-color: #00af00\">256</span> │\n",
       "│ (<span style=\"color: #0087ff; text-decoration-color: #0087ff\">BatchNormalization</span>)            │                        │               │\n",
       "├─────────────────────────────────┼────────────────────────┼───────────────┤\n",
       "│ max_pooling2d_1 (<span style=\"color: #0087ff; text-decoration-color: #0087ff\">MaxPooling2D</span>)  │ (<span style=\"color: #00d7ff; text-decoration-color: #00d7ff\">None</span>, <span style=\"color: #00af00; text-decoration-color: #00af00\">30</span>, <span style=\"color: #00af00; text-decoration-color: #00af00\">30</span>, <span style=\"color: #00af00; text-decoration-color: #00af00\">64</span>)     │             <span style=\"color: #00af00; text-decoration-color: #00af00\">0</span> │\n",
       "├─────────────────────────────────┼────────────────────────┼───────────────┤\n",
       "│ conv2d_2 (<span style=\"color: #0087ff; text-decoration-color: #0087ff\">Conv2D</span>)               │ (<span style=\"color: #00d7ff; text-decoration-color: #00d7ff\">None</span>, <span style=\"color: #00af00; text-decoration-color: #00af00\">28</span>, <span style=\"color: #00af00; text-decoration-color: #00af00\">28</span>, <span style=\"color: #00af00; text-decoration-color: #00af00\">128</span>)    │        <span style=\"color: #00af00; text-decoration-color: #00af00\">73,856</span> │\n",
       "├─────────────────────────────────┼────────────────────────┼───────────────┤\n",
       "│ batch_normalization_2           │ (<span style=\"color: #00d7ff; text-decoration-color: #00d7ff\">None</span>, <span style=\"color: #00af00; text-decoration-color: #00af00\">28</span>, <span style=\"color: #00af00; text-decoration-color: #00af00\">28</span>, <span style=\"color: #00af00; text-decoration-color: #00af00\">128</span>)    │           <span style=\"color: #00af00; text-decoration-color: #00af00\">512</span> │\n",
       "│ (<span style=\"color: #0087ff; text-decoration-color: #0087ff\">BatchNormalization</span>)            │                        │               │\n",
       "├─────────────────────────────────┼────────────────────────┼───────────────┤\n",
       "│ max_pooling2d_2 (<span style=\"color: #0087ff; text-decoration-color: #0087ff\">MaxPooling2D</span>)  │ (<span style=\"color: #00d7ff; text-decoration-color: #00d7ff\">None</span>, <span style=\"color: #00af00; text-decoration-color: #00af00\">14</span>, <span style=\"color: #00af00; text-decoration-color: #00af00\">14</span>, <span style=\"color: #00af00; text-decoration-color: #00af00\">128</span>)    │             <span style=\"color: #00af00; text-decoration-color: #00af00\">0</span> │\n",
       "├─────────────────────────────────┼────────────────────────┼───────────────┤\n",
       "│ flatten (<span style=\"color: #0087ff; text-decoration-color: #0087ff\">Flatten</span>)               │ (<span style=\"color: #00d7ff; text-decoration-color: #00d7ff\">None</span>, <span style=\"color: #00af00; text-decoration-color: #00af00\">25088</span>)          │             <span style=\"color: #00af00; text-decoration-color: #00af00\">0</span> │\n",
       "├─────────────────────────────────┼────────────────────────┼───────────────┤\n",
       "│ dense (<span style=\"color: #0087ff; text-decoration-color: #0087ff\">Dense</span>)                   │ (<span style=\"color: #00d7ff; text-decoration-color: #00d7ff\">None</span>, <span style=\"color: #00af00; text-decoration-color: #00af00\">128</span>)            │     <span style=\"color: #00af00; text-decoration-color: #00af00\">3,211,392</span> │\n",
       "├─────────────────────────────────┼────────────────────────┼───────────────┤\n",
       "│ batch_normalization_3           │ (<span style=\"color: #00d7ff; text-decoration-color: #00d7ff\">None</span>, <span style=\"color: #00af00; text-decoration-color: #00af00\">128</span>)            │           <span style=\"color: #00af00; text-decoration-color: #00af00\">512</span> │\n",
       "│ (<span style=\"color: #0087ff; text-decoration-color: #0087ff\">BatchNormalization</span>)            │                        │               │\n",
       "├─────────────────────────────────┼────────────────────────┼───────────────┤\n",
       "│ dropout (<span style=\"color: #0087ff; text-decoration-color: #0087ff\">Dropout</span>)               │ (<span style=\"color: #00d7ff; text-decoration-color: #00d7ff\">None</span>, <span style=\"color: #00af00; text-decoration-color: #00af00\">128</span>)            │             <span style=\"color: #00af00; text-decoration-color: #00af00\">0</span> │\n",
       "├─────────────────────────────────┼────────────────────────┼───────────────┤\n",
       "│ dense_1 (<span style=\"color: #0087ff; text-decoration-color: #0087ff\">Dense</span>)                 │ (<span style=\"color: #00d7ff; text-decoration-color: #00d7ff\">None</span>, <span style=\"color: #00af00; text-decoration-color: #00af00\">3</span>)              │           <span style=\"color: #00af00; text-decoration-color: #00af00\">387</span> │\n",
       "└─────────────────────────────────┴────────────────────────┴───────────────┘\n",
       "</pre>\n"
      ],
      "text/plain": [
       "┏━━━━━━━━━━━━━━━━━━━━━━━━━━━━━━━━━┳━━━━━━━━━━━━━━━━━━━━━━━━┳━━━━━━━━━━━━━━━┓\n",
       "┃\u001b[1m \u001b[0m\u001b[1mLayer (type)                   \u001b[0m\u001b[1m \u001b[0m┃\u001b[1m \u001b[0m\u001b[1mOutput Shape          \u001b[0m\u001b[1m \u001b[0m┃\u001b[1m \u001b[0m\u001b[1m      Param #\u001b[0m\u001b[1m \u001b[0m┃\n",
       "┡━━━━━━━━━━━━━━━━━━━━━━━━━━━━━━━━━╇━━━━━━━━━━━━━━━━━━━━━━━━╇━━━━━━━━━━━━━━━┩\n",
       "│ conv2d (\u001b[38;5;33mConv2D\u001b[0m)                 │ (\u001b[38;5;45mNone\u001b[0m, \u001b[38;5;34m126\u001b[0m, \u001b[38;5;34m126\u001b[0m, \u001b[38;5;34m32\u001b[0m)   │           \u001b[38;5;34m896\u001b[0m │\n",
       "├─────────────────────────────────┼────────────────────────┼───────────────┤\n",
       "│ batch_normalization             │ (\u001b[38;5;45mNone\u001b[0m, \u001b[38;5;34m126\u001b[0m, \u001b[38;5;34m126\u001b[0m, \u001b[38;5;34m32\u001b[0m)   │           \u001b[38;5;34m128\u001b[0m │\n",
       "│ (\u001b[38;5;33mBatchNormalization\u001b[0m)            │                        │               │\n",
       "├─────────────────────────────────┼────────────────────────┼───────────────┤\n",
       "│ max_pooling2d (\u001b[38;5;33mMaxPooling2D\u001b[0m)    │ (\u001b[38;5;45mNone\u001b[0m, \u001b[38;5;34m63\u001b[0m, \u001b[38;5;34m63\u001b[0m, \u001b[38;5;34m32\u001b[0m)     │             \u001b[38;5;34m0\u001b[0m │\n",
       "├─────────────────────────────────┼────────────────────────┼───────────────┤\n",
       "│ conv2d_1 (\u001b[38;5;33mConv2D\u001b[0m)               │ (\u001b[38;5;45mNone\u001b[0m, \u001b[38;5;34m61\u001b[0m, \u001b[38;5;34m61\u001b[0m, \u001b[38;5;34m64\u001b[0m)     │        \u001b[38;5;34m18,496\u001b[0m │\n",
       "├─────────────────────────────────┼────────────────────────┼───────────────┤\n",
       "│ batch_normalization_1           │ (\u001b[38;5;45mNone\u001b[0m, \u001b[38;5;34m61\u001b[0m, \u001b[38;5;34m61\u001b[0m, \u001b[38;5;34m64\u001b[0m)     │           \u001b[38;5;34m256\u001b[0m │\n",
       "│ (\u001b[38;5;33mBatchNormalization\u001b[0m)            │                        │               │\n",
       "├─────────────────────────────────┼────────────────────────┼───────────────┤\n",
       "│ max_pooling2d_1 (\u001b[38;5;33mMaxPooling2D\u001b[0m)  │ (\u001b[38;5;45mNone\u001b[0m, \u001b[38;5;34m30\u001b[0m, \u001b[38;5;34m30\u001b[0m, \u001b[38;5;34m64\u001b[0m)     │             \u001b[38;5;34m0\u001b[0m │\n",
       "├─────────────────────────────────┼────────────────────────┼───────────────┤\n",
       "│ conv2d_2 (\u001b[38;5;33mConv2D\u001b[0m)               │ (\u001b[38;5;45mNone\u001b[0m, \u001b[38;5;34m28\u001b[0m, \u001b[38;5;34m28\u001b[0m, \u001b[38;5;34m128\u001b[0m)    │        \u001b[38;5;34m73,856\u001b[0m │\n",
       "├─────────────────────────────────┼────────────────────────┼───────────────┤\n",
       "│ batch_normalization_2           │ (\u001b[38;5;45mNone\u001b[0m, \u001b[38;5;34m28\u001b[0m, \u001b[38;5;34m28\u001b[0m, \u001b[38;5;34m128\u001b[0m)    │           \u001b[38;5;34m512\u001b[0m │\n",
       "│ (\u001b[38;5;33mBatchNormalization\u001b[0m)            │                        │               │\n",
       "├─────────────────────────────────┼────────────────────────┼───────────────┤\n",
       "│ max_pooling2d_2 (\u001b[38;5;33mMaxPooling2D\u001b[0m)  │ (\u001b[38;5;45mNone\u001b[0m, \u001b[38;5;34m14\u001b[0m, \u001b[38;5;34m14\u001b[0m, \u001b[38;5;34m128\u001b[0m)    │             \u001b[38;5;34m0\u001b[0m │\n",
       "├─────────────────────────────────┼────────────────────────┼───────────────┤\n",
       "│ flatten (\u001b[38;5;33mFlatten\u001b[0m)               │ (\u001b[38;5;45mNone\u001b[0m, \u001b[38;5;34m25088\u001b[0m)          │             \u001b[38;5;34m0\u001b[0m │\n",
       "├─────────────────────────────────┼────────────────────────┼───────────────┤\n",
       "│ dense (\u001b[38;5;33mDense\u001b[0m)                   │ (\u001b[38;5;45mNone\u001b[0m, \u001b[38;5;34m128\u001b[0m)            │     \u001b[38;5;34m3,211,392\u001b[0m │\n",
       "├─────────────────────────────────┼────────────────────────┼───────────────┤\n",
       "│ batch_normalization_3           │ (\u001b[38;5;45mNone\u001b[0m, \u001b[38;5;34m128\u001b[0m)            │           \u001b[38;5;34m512\u001b[0m │\n",
       "│ (\u001b[38;5;33mBatchNormalization\u001b[0m)            │                        │               │\n",
       "├─────────────────────────────────┼────────────────────────┼───────────────┤\n",
       "│ dropout (\u001b[38;5;33mDropout\u001b[0m)               │ (\u001b[38;5;45mNone\u001b[0m, \u001b[38;5;34m128\u001b[0m)            │             \u001b[38;5;34m0\u001b[0m │\n",
       "├─────────────────────────────────┼────────────────────────┼───────────────┤\n",
       "│ dense_1 (\u001b[38;5;33mDense\u001b[0m)                 │ (\u001b[38;5;45mNone\u001b[0m, \u001b[38;5;34m3\u001b[0m)              │           \u001b[38;5;34m387\u001b[0m │\n",
       "└─────────────────────────────────┴────────────────────────┴───────────────┘\n"
      ]
     },
     "metadata": {},
     "output_type": "display_data"
    },
    {
     "data": {
      "text/html": [
       "<pre style=\"white-space:pre;overflow-x:auto;line-height:normal;font-family:Menlo,'DejaVu Sans Mono',consolas,'Courier New',monospace\"><span style=\"font-weight: bold\"> Total params: </span><span style=\"color: #00af00; text-decoration-color: #00af00\">3,306,435</span> (12.61 MB)\n",
       "</pre>\n"
      ],
      "text/plain": [
       "\u001b[1m Total params: \u001b[0m\u001b[38;5;34m3,306,435\u001b[0m (12.61 MB)\n"
      ]
     },
     "metadata": {},
     "output_type": "display_data"
    },
    {
     "data": {
      "text/html": [
       "<pre style=\"white-space:pre;overflow-x:auto;line-height:normal;font-family:Menlo,'DejaVu Sans Mono',consolas,'Courier New',monospace\"><span style=\"font-weight: bold\"> Trainable params: </span><span style=\"color: #00af00; text-decoration-color: #00af00\">3,305,731</span> (12.61 MB)\n",
       "</pre>\n"
      ],
      "text/plain": [
       "\u001b[1m Trainable params: \u001b[0m\u001b[38;5;34m3,305,731\u001b[0m (12.61 MB)\n"
      ]
     },
     "metadata": {},
     "output_type": "display_data"
    },
    {
     "data": {
      "text/html": [
       "<pre style=\"white-space:pre;overflow-x:auto;line-height:normal;font-family:Menlo,'DejaVu Sans Mono',consolas,'Courier New',monospace\"><span style=\"font-weight: bold\"> Non-trainable params: </span><span style=\"color: #00af00; text-decoration-color: #00af00\">704</span> (2.75 KB)\n",
       "</pre>\n"
      ],
      "text/plain": [
       "\u001b[1m Non-trainable params: \u001b[0m\u001b[38;5;34m704\u001b[0m (2.75 KB)\n"
      ]
     },
     "metadata": {},
     "output_type": "display_data"
    },
    {
     "name": "stdout",
     "output_type": "stream",
     "text": [
      "\n",
      "Starting model training...\n"
     ]
    },
    {
     "name": "stderr",
     "output_type": "stream",
     "text": [
      "/home/sasaka-jr/Plant-Leaf-Disease-Detector/.venv/lib/python3.12/site-packages/keras/src/trainers/data_adapters/py_dataset_adapter.py:121: UserWarning: Your `PyDataset` class should call `super().__init__(**kwargs)` in its constructor. `**kwargs` can include `workers`, `use_multiprocessing`, `max_queue_size`. Do not pass these arguments to `fit()`, as they will be ignored.\n",
      "  self._warn_if_super_not_called()\n"
     ]
    },
    {
     "name": "stdout",
     "output_type": "stream",
     "text": [
      "Epoch 1/25\n",
      "\u001b[1m9/9\u001b[0m \u001b[32m━━━━━━━━━━━━━━━━━━━━\u001b[0m\u001b[37m\u001b[0m \u001b[1m38s\u001b[0m 3s/step - accuracy: 0.5350 - loss: 1.6990 - val_accuracy: 0.6250 - val_loss: 0.9996 - learning_rate: 0.0010\n",
      "Epoch 2/25\n",
      "\u001b[1m1/9\u001b[0m \u001b[32m━━\u001b[0m\u001b[37m━━━━━━━━━━━━━━━━━━\u001b[0m \u001b[1m14s\u001b[0m 2s/step - accuracy: 0.7500 - loss: 0.9307"
     ]
    },
    {
     "name": "stderr",
     "output_type": "stream",
     "text": [
      "/home/sasaka-jr/Plant-Leaf-Disease-Detector/.venv/lib/python3.12/site-packages/keras/src/trainers/epoch_iterator.py:107: UserWarning: Your input ran out of data; interrupting training. Make sure that your dataset or generator can generate at least `steps_per_epoch * epochs` batches. You may need to use the `.repeat()` function when building your dataset.\n",
      "  self._interrupted_warning()\n"
     ]
    },
    {
     "name": "stdout",
     "output_type": "stream",
     "text": [
      "\u001b[1m9/9\u001b[0m \u001b[32m━━━━━━━━━━━━━━━━━━━━\u001b[0m\u001b[37m\u001b[0m \u001b[1m4s\u001b[0m 310ms/step - accuracy: 0.7500 - loss: 0.9307 - val_accuracy: 0.6250 - val_loss: 1.0911 - learning_rate: 0.0010\n",
      "Epoch 3/25\n",
      "\u001b[1m9/9\u001b[0m \u001b[32m━━━━━━━━━━━━━━━━━━━━\u001b[0m\u001b[37m\u001b[0m \u001b[1m17s\u001b[0m 2s/step - accuracy: 0.6106 - loss: 1.0801 - val_accuracy: 0.0938 - val_loss: 2.4144 - learning_rate: 0.0010\n",
      "Epoch 4/25\n",
      "\u001b[1m9/9\u001b[0m \u001b[32m━━━━━━━━━━━━━━━━━━━━\u001b[0m\u001b[37m\u001b[0m \u001b[1m6s\u001b[0m 566ms/step - accuracy: 0.8125 - loss: 0.5410 - val_accuracy: 0.0312 - val_loss: 2.8168 - learning_rate: 0.0010\n",
      "Epoch 5/25\n",
      "\u001b[1m9/9\u001b[0m \u001b[32m━━━━━━━━━━━━━━━━━━━━\u001b[0m\u001b[37m\u001b[0m \u001b[1m17s\u001b[0m 2s/step - accuracy: 0.6928 - loss: 0.8175 - val_accuracy: 0.0000e+00 - val_loss: 5.8795 - learning_rate: 2.0000e-04\n",
      "Epoch 6/25\n",
      "\u001b[1m9/9\u001b[0m \u001b[32m━━━━━━━━━━━━━━━━━━━━\u001b[0m\u001b[37m\u001b[0m \u001b[1m7s\u001b[0m 614ms/step - accuracy: 0.6875 - loss: 1.0637 - val_accuracy: 0.0000e+00 - val_loss: 6.1629 - learning_rate: 2.0000e-04\n",
      "\n",
      "Evaluating model on test data...\n",
      "\u001b[1m4/4\u001b[0m \u001b[32m━━━━━━━━━━━━━━━━━━━━\u001b[0m\u001b[37m\u001b[0m \u001b[1m25s\u001b[0m 7s/step - accuracy: 0.6198 - loss: 0.9772\n"
     ]
    },
    {
     "name": "stderr",
     "output_type": "stream",
     "text": [
      "WARNING:absl:You are saving your model as an HDF5 file via `model.save()` or `keras.saving.save_model(model)`. This file format is considered legacy. We recommend using instead the native Keras format, e.g. `model.save('my_model.keras')` or `keras.saving.save_model(model, 'my_model.keras')`. \n"
     ]
    },
    {
     "name": "stdout",
     "output_type": "stream",
     "text": [
      "Test Accuracy: 39.84%\n",
      "Test Loss: 1.2625\n",
      "Model saved to plant_disease_model.h5\n"
     ]
    },
    {
     "data": {
      "image/png": "[encoded data removed]",
      "text/plain": [
       "<Figure size 1200x400 with 2 Axes>"
      ]
     },
     "metadata": {},
     "output_type": "display_data"
    },
    {
     "name": "stdout",
     "output_type": "stream",
     "text": [
      "Class Indices: {'Healthy': 0, 'Powdery': 1, 'Rust': 2}\n",
      "Class indices saved to class_indices.json\n"
     ]
    }
   ],
   "source": [
    "# Define image dimensions and batch size\n",
    "IMG_WIDTH, IMG_HEIGHT = 128, 128\n",
    "BATCH_SIZE = 32\n",
    "EPOCHS = 25 # Start with fewer epochs, can increase if needed\n",
    "\n",
    "# Assuming 'categories' is defined in a previous cell (e.g., ['Healthy', 'Powdery', 'Rust'])\n",
    "NUM_CLASSES = len(categories)\n",
    "\n",
    "# Define paths (Make sure 'train_path', 'validation_path', 'test_path' are correctly defined in previous cells)\n",
    "# Example: train_path = './Train', validation_path = './Validation', test_path = './Test'\n",
    "# These should be the paths containing the subdirectories for each class\n",
    "\n",
    "# Verify paths exist\n",
    "if not all(os.path.exists(p) for p in [train_path, validation_path, test_path]):\n",
    "    print(\"Error: One or more data paths (train, validation, test) do not exist.\")\n",
    "    print(f\"Please ensure these paths are correct:\")\n",
    "    print(f\"Train Path: {train_path}\")\n",
    "    print(f\"Validation Path: {validation_path}\")\n",
    "    print(f\"Test Path: {test_path}\")\n",
    "    # Stop execution or handle the error as needed\n",
    "    raise FileNotFoundError(\"Required data directories not found.\")\n",
    "\n",
    "# --- Data Generators ---\n",
    "# Training data generator with augmentation and rescaling\n",
    "train_datagen = ImageDataGenerator(\n",
    "    rescale=1./255,\n",
    "    rotation_range=40,\n",
    "    width_shift_range=0.2,\n",
    "    height_shift_range=0.2,\n",
    "    shear_range=0.2,\n",
    "    zoom_range=0.2,\n",
    "    horizontal_flip=True,\n",
    "    fill_mode='nearest'\n",
    ")\n",
    "\n",
    "# Validation and Test data generator (only rescaling)\n",
    "test_val_datagen = ImageDataGenerator(rescale=1./255)\n",
    "\n",
    "# Create generators\n",
    "print(f\"Loading training images from: {train_path}\")\n",
    "train_generator = train_datagen.flow_from_directory(\n",
    "    train_path,\n",
    "    target_size=(IMG_WIDTH, IMG_HEIGHT),\n",
    "    batch_size=BATCH_SIZE,\n",
    "    class_mode='categorical' # for multi-class classification\n",
    ")\n",
    "\n",
    "print(f\"Loading validation images from: {validation_path}\")\n",
    "validation_generator = test_val_datagen.flow_from_directory(\n",
    "    validation_path,\n",
    "    target_size=(IMG_WIDTH, IMG_HEIGHT),\n",
    "    batch_size=BATCH_SIZE,\n",
    "    class_mode='categorical',\n",
    "    shuffle=False # No need to shuffle validation data\n",
    ")\n",
    "\n",
    "print(f\"Loading test images from: {test_path}\")\n",
    "test_generator = test_val_datagen.flow_from_directory(\n",
    "    test_path,\n",
    "    target_size=(IMG_WIDTH, IMG_HEIGHT),\n",
    "    batch_size=BATCH_SIZE,\n",
    "    class_mode='categorical',\n",
    "    shuffle=False # No need to shuffle test data\n",
    ")\n",
    "\n",
    "# --- Model Architecture ---\n",
    "model = Sequential([\n",
    "    # Block 1\n",
    "    Conv2D(32, (3, 3), activation='relu', input_shape=(IMG_WIDTH, IMG_HEIGHT, 3)),\n",
    "    BatchNormalization(),\n",
    "    MaxPooling2D(pool_size=(2, 2)),\n",
    "\n",
    "    # Block 2\n",
    "    Conv2D(64, (3, 3), activation='relu'),\n",
    "    BatchNormalization(),\n",
    "    MaxPooling2D(pool_size=(2, 2)),\n",
    "\n",
    "    # Block 3\n",
    "    Conv2D(128, (3, 3), activation='relu'),\n",
    "    BatchNormalization(),\n",
    "    MaxPooling2D(pool_size=(2, 2)),\n",
    "\n",
    "    # Flatten and Dense layers\n",
    "    Flatten(),\n",
    "    Dense(128, activation='relu'),\n",
    "    BatchNormalization(),\n",
    "    Dropout(0.5), # Regularization\n",
    "    Dense(NUM_CLASSES, activation='softmax') # Output layer for N classes\n",
    "])\n",
    "\n",
    "# --- Model Compilation ---\n",
    "model.compile(optimizer='adam',\n",
    "              loss='categorical_crossentropy',\n",
    "              metrics=['accuracy'])\n",
    "\n",
    "model.summary()\n",
    "\n",
    "# --- Callbacks ---\n",
    "# Stop training if validation loss doesn't improve for 'patience' epochs\n",
    "early_stopping = EarlyStopping(monitor='val_loss', patience=5, restore_best_weights=True)\n",
    "# Reduce learning rate if validation loss plateaus\n",
    "reduce_lr = ReduceLROnPlateau(monitor='val_loss', factor=0.2, patience=3, min_lr=0.00001)\n",
    "\n",
    "# --- Model Training ---\n",
    "print(\"\\nStarting model training...\")\n",
    "history = model.fit(\n",
    "    train_generator,\n",
    "    steps_per_epoch=max(1, train_generator.samples // BATCH_SIZE), # Ensure steps_per_epoch >= 1\n",
    "    validation_data=validation_generator,\n",
    "    validation_steps=max(1, validation_generator.samples // BATCH_SIZE), # Ensure validation_steps >= 1\n",
    "    epochs=EPOCHS,\n",
    "    callbacks=[early_stopping, reduce_lr]\n",
    ")\n",
    "\n",
    "# --- Model Evaluation ---\n",
    "print(\"\\nEvaluating model on test data...\")\n",
    "test_loss, test_acc = model.evaluate(test_generator, steps=max(1, test_generator.samples // BATCH_SIZE)) # Ensure steps >= 1\n",
    "print(f\"Test Accuracy: {test_acc*100:.2f}%\")\n",
    "print(f\"Test Loss: {test_loss:.4f}\")\n",
    "\n",
    "# --- Save the Model ---\n",
    "model_save_path = './models/plant_disease_model.h5'\n",
    "model.save(model_save_path)\n",
    "print(f\"Model saved to {model_save_path}\")\n",
    "\n",
    "# --- Plot Training History ---\n",
    "acc = history.history['accuracy']\n",
    "val_acc = history.history['val_accuracy']\n",
    "loss = history.history['loss']\n",
    "val_loss = history.history['val_loss']\n",
    "\n",
    "epochs_range = range(len(acc)) # Use actual number of epochs run\n",
    "\n",
    "plt.figure(figsize=(12, 4))\n",
    "plt.subplot(1, 2, 1)\n",
    "plt.plot(epochs_range, acc, label='Training Accuracy')\n",
    "plt.plot(epochs_range, val_acc, label='Validation Accuracy')\n",
    "plt.legend(loc='lower right')\n",
    "plt.title('Training and Validation Accuracy')\n",
    "\n",
    "plt.subplot(1, 2, 2)\n",
    "plt.plot(epochs_range, loss, label='Training Loss')\n",
    "plt.plot(epochs_range, val_loss, label='Validation Loss')\n",
    "plt.legend(loc='upper right')\n",
    "plt.title('Training and Validation Loss')\n",
    "plt.show()\n",
    "\n",
    "# Save class indices\n",
    "class_indices = train_generator.class_indices\n",
    "print(\"Class Indices:\", class_indices)\n",
    "# Optionally save class indices to a file (useful for the web app later)\n",
    "\n",
    "with open('./index/class_indices.json', 'w') as f:\n",
    "    json.dump(class_indices, f)\n",
    "print(\"Class indices saved to class_indices.json within the index folder\")\n"
   ]
  },
  {
   "cell_type": "markdown",
   "id": "2eaa0d3d",
   "metadata": {
    "papermill": {
     "duration": 0.176749,
     "end_time": "2025-03-18T20:45:33.469527",
     "exception": false,
     "start_time": "2025-03-18T20:45:33.292778",
     "status": "completed"
    },
    "tags": []
   },
   "source": [
    "### Data Insights (Summary, Results, Findings)\n",
    "\n",
    "After working with the dataset, I gained some valuable insights that will guide the next steps in the project. Here's a summary of the findings:\n",
    "\n",
    "#### 1. **Dataset Summary**:\n",
    "   - The dataset consists of three categories: **Healthy**, **Powdery**, and **Rust**. These represent different plant leaf diseases, and I plan to add more disease categories in the future to improve the model's versatility.\n",
    "   - The data is divided into **Train**, **Test**, and **Validation** sets, ensuring that I have separate data for training the model, evaluating its performance, and validating its predictions.\n",
    "\n",
    "#### 2. **Data Quality**:\n",
    "   - I checked the dataset for any corrupted images, and luckily, there were no issues found in the `Train`, `Test`, and `Validation` sets. This means the images are all good to go for model training.\n",
    "   - I also had to adjust for structural differences between the two datasets I used. Dataset 1 had a nested folder structure (e.g., `Train/Train`), while Dataset 2 had a simpler structure. I handled these differences in the code to ensure smooth image loading.\n",
    "\n",
    "#### 3. **Data Augmentation**:\n",
    "   - To help the model generalize better, I applied basic **image augmentations** to the training images, such as:\n",
    "     - **Rotation** (up to 40 degrees)\n",
    "     - **Horizontal Flip**\n",
    "   - The idea behind this is to increase the variability in the training data so that the model can learn to recognize plant diseases under different conditions, improving its ability to handle real-world scenarios.\n",
    "\n",
    "#### 4. **Data Visualization**:\n",
    "   - I visualized some augmented images to see how the transformations (rotation and flipping) look. These augmentations add variety to the data, which is crucial for training a robust model.\n",
    "   - This step is useful for understanding how data augmentation affects the images and ensures that the model won't overfit to specific image patterns.\n",
    "\n",
    "#### 5. **Insights from Augmented Data**:\n",
    "   - **Increased Variety**: The augmentation allows the model to see different versions of the same images, helping it learn to recognize key features of the disease rather than memorizing the image.\n",
    "   - **Better Generalization**: By showing the model rotated and flipped versions of the images, I’m helping it generalize better to new, unseen images, which is especially important when working with real-world data.\n",
    "   - **Balancing Data**: If some categories (like Rust or Powdery) have fewer images, augmentation helps create a more balanced dataset for training, ensuring that the model doesn't favor one category over another.\n",
    "\n",
    "#### 6. **Potential Challenges**:\n",
    "   - **Class Imbalance**: If certain categories have fewer images, the model could become biased toward the overrepresented classes. While augmentation helps, I will need to keep an eye on this during training and may consider additional techniques like class weighting.\n",
    "   - **Over-augmentation**: It’s important not to overdo it with augmentation (e.g., excessive rotations), as it could distort the images too much and make them unrealistic for real-world predictions. I’ll have to monitor this carefully.\n",
    "\n",
    "### Key Takeaways:\n",
    "- **Clean Dataset**: The dataset is ready for training, and I’ve ensured that there are no corrupted images.\n",
    "- **Increased Data Variability**: Augmentation has successfully created more diverse training images, which should help improve the model's performance.\n",
    "- **Balanced Representation**: I’ve made sure that the data augmentation helps address potential class imbalance, though this will need monitoring during model training.\n",
    "\n",
    "### Next Steps:\n",
    "- **Model Training**: I’ll proceed with training a model using the augmented data, and I’ll validate its performance on the test and validation sets to see how well it generalizes.\n",
    "- **Adding More Diseases**: As part of future improvements, I plan to add other types of plant diseases to the dataset, expanding the model's capabilities to recognize more conditions.\n",
    "- **Further Monitoring**: I’ll continue to keep an eye on class balance and might adjust the model or augmentations as needed to improve performance.\n",
    "\n"
   ]
  }
 ],
 "metadata": {
  "kaggle": {
   "accelerator": "none",
   "dataSources": [
    {
     "datasetId": 1447507,
     "sourceId": 2394131,
     "sourceType": "datasetVersion"
    },
    {
     "datasetId": 6890418,
     "sourceId": 11059194,
     "sourceType": "datasetVersion"
    }
   ],
   "dockerImageVersionId": 30918,
   "isGpuEnabled": false,
   "isInternetEnabled": false,
   "language": "python",
   "sourceType": "notebook"
  },
  "kernelspec": {
   "display_name": ".venv",
   "language": "python",
   "name": "python3"
  },
  "language_info": {
   "codemirror_mode": {
    "name": "ipython",
    "version": 3
   },
   "file_extension": ".py",
   "mimetype": "text/x-python",
   "name": "python",
   "nbconvert_exporter": "python",
   "pygments_lexer": "ipython3",
   "version": "3.12.3"
  },
  "papermill": {
   "default_parameters": {},
   "duration": 89.984608,
   "end_time": "2025-03-18T20:45:35.264620",
   "environment_variables": {},
   "exception": null,
   "input_path": "__notebook__.ipynb",
   "output_path": "__notebook__.ipynb",
   "parameters": {},
   "start_time": "2025-03-18T20:44:05.280012",
   "version": "2.6.0"
  }
 },
 "nbformat": 4,
 "nbformat_minor": 5
}
