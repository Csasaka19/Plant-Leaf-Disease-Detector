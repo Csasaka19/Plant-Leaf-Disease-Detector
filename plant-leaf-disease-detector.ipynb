{
 "cells": [
  {
   "cell_type": "code",
   "execution_count": null,
   "id": "323bafcf",
   "metadata": {},
   "outputs": [],
   "source": [
    "# This are requirements for the upcoming code cells and project\n",
    "# Create a virtual environment intsall the requirements and select it as your kernel\n",
    "# python -m venv venv\n",
    "# source venv/bin/activate\n",
    "# pip install ipykernel matplotlib pandas numpy seaborn tensorflow Pillow\n",
    "# python -m ipykernel install --user --name=plant-leaf-disease-detector\n",
    "# jupyter notebook plant-leaf-disease-detector.ipynb\n"
   ]
  },
  {
   "cell_type": "code",
   "execution_count": 17,
   "id": "3ce29fa8",
   "metadata": {
    "_cell_guid": "b1076dfc-b9ad-4769-8c92-a6c4dae69d19",
    "_uuid": "8f2839f25d086af736a60e9eeb907d3b93b6e0e5",
    "execution": {
     "iopub.execute_input": "2025-03-18T20:44:08.132092Z",
     "iopub.status.busy": "2025-03-18T20:44:08.131695Z",
     "iopub.status.idle": "2025-03-18T20:44:10.797687Z",
     "shell.execute_reply": "2025-03-18T20:44:10.796677Z"
    },
    "papermill": {
     "duration": 2.676644,
     "end_time": "2025-03-18T20:44:10.799663",
     "exception": false,
     "start_time": "2025-03-18T20:44:08.123019",
     "status": "completed"
    },
    "tags": []
   },
   "outputs": [],
   "source": [
    "import os\n",
    "import numpy as np\n",
    "import pandas as pd\n",
    "import matplotlib.pyplot as plt\n",
    "import seaborn as sns\n",
    "from PIL import Image\n",
    "import random\n",
    "from tensorflow.keras.preprocessing.image import ImageDataGenerator\n",
    "from tensorflow.keras.preprocessing.image import img_to_array"
   ]
  },
  {
   "cell_type": "code",
   "execution_count": null,
   "id": "98d33761",
   "metadata": {
    "execution": {
     "iopub.execute_input": "2025-03-18T20:44:10.809170Z",
     "iopub.status.busy": "2025-03-18T20:44:10.808632Z",
     "iopub.status.idle": "2025-03-18T20:44:10.842055Z",
     "shell.execute_reply": "2025-03-18T20:44:10.840678Z"
    },
    "papermill": {
     "duration": 0.04001,
     "end_time": "2025-03-18T20:44:10.843980",
     "exception": false,
     "start_time": "2025-03-18T20:44:10.803970",
     "status": "completed"
    },
    "tags": []
   },
   "outputs": [],
   "source": [
    "# Add these lines to check the kernel's perspective\n",
    "print(f\"Kernel Current Working Directory: {os.getcwd()}\")\n",
    "print(f\"Contents of CWD: {os.listdir('.')}\")\n",
    "\n",
    "# --- Existing code follows ---\n",
    "base_path = '.'\n",
    "train_path = os.path.join(base_path, 'Train')\n",
    "test_path = os.path.join(base_path, 'Test')\n",
    "validation_path = os.path.join(base_path, 'Validation')\n",
    "\n",
    "# List the classes (subdirectories) within the Train directory\n",
    "categories = []\n",
    "if os.path.exists(train_path) and os.path.isdir(train_path):\n",
    "    try:\n",
    "        categories = sorted([d for d in os.listdir(train_path) if os.path.isdir(os.path.join(train_path, d))])\n",
    "        print(f\"Categories found (from ./Train): {categories}\") # Modified print statement for clarity\n",
    "    except Exception as e:\n",
    "        print(f\"Error listing categories in {train_path}: {e}\")\n",
    "        categories = ['Healthy', 'Powdery', 'Rust'] # Fallback\n",
    "        print(f\"Using default categories due to error.\")\n",
    "else:\n",
    "    print(f\"Error: Training path not found or not a directory at '{train_path}'\")\n",
    "    categories = ['Healthy', 'Powdery', 'Rust'] # Fallback\n",
    "    print(f\"Using default categories.\")\n"
   ]
  },
  {
   "cell_type": "markdown",
   "id": "3e9f27b1",
   "metadata": {
    "papermill": {
     "duration": 0.00353,
     "end_time": "2025-03-18T20:44:10.851407",
     "exception": false,
     "start_time": "2025-03-18T20:44:10.847877",
     "status": "completed"
    },
    "tags": []
   },
   "source": [
    "**Step 1:** ***Data preview and Validation***"
   ]
  },
  {
   "cell_type": "code",
   "execution_count": null,
   "id": "4daed6e1",
   "metadata": {
    "execution": {
     "iopub.execute_input": "2025-03-18T20:44:10.860579Z",
     "iopub.status.busy": "2025-03-18T20:44:10.860150Z",
     "iopub.status.idle": "2025-03-18T20:44:11.109127Z",
     "shell.execute_reply": "2025-03-18T20:44:11.108041Z"
    },
    "papermill": {
     "duration": 0.25579,
     "end_time": "2025-03-18T20:44:11.110945",
     "exception": false,
     "start_time": "2025-03-18T20:44:10.855155",
     "status": "completed"
    },
    "tags": []
   },
   "outputs": [],
   "source": [
    "   \n",
    "\n",
    "# Paths (train_path, test_path, validation_path) and categories\n",
    "        # should be defined from the previous cell\n",
    "\n",
    "        # Function to check and print the number of images in each category\n",
    "def check_image_counts(path, set_name, categories):\n",
    "    print(f\"\\\\nChecking {set_name} set at '{path}':\")\n",
    "    if not os.path.exists(path) or not os.path.isdir(path):\n",
    "        print(f\"  Warning: Path does not exist or is not a directory.\")\n",
    "        return\n",
    "    for category in categories:\n",
    "        category_path = os.path.join(path, category)\n",
    "        if os.path.exists(category_path) and os.path.isdir(category_path):\n",
    "            try:\n",
    "                        # Count only files, ignore potential subdirectories\n",
    "                num_images = len([f for f in os.listdir(category_path) if os.path.isfile(os.path.join(category_path, f))])\n",
    "                print(f\"  {category}: {num_images} images\")\n",
    "            except Exception as e:\n",
    "                print(f\"  Error counting images in {category_path}: {e}\")\n",
    "        else:\n",
    "            print(f\"  Warning: Category path '{category_path}' not found or not a directory.\")\n",
    "\n",
    "        # Check counts if categories were successfully found\n",
    "if 'categories' in locals() and categories:\n",
    "    check_image_counts(train_path, 'Train', categories)\n",
    "    check_image_counts(test_path, 'Test', categories)\n",
    "    check_image_counts(validation_path, 'Validation', categories)\n",
    "else:\n",
    "    print(\"\\\\nSkipping image count checks because categories could not be determined.\")"
   ]
  },
  {
   "cell_type": "code",
   "execution_count": null,
   "id": "05de1d1b",
   "metadata": {
    "execution": {
     "iopub.execute_input": "2025-03-18T20:44:11.120269Z",
     "iopub.status.busy": "2025-03-18T20:44:11.119902Z",
     "iopub.status.idle": "2025-03-18T20:44:11.195331Z",
     "shell.execute_reply": "2025-03-18T20:44:11.194183Z"
    },
    "papermill": {
     "duration": 0.082077,
     "end_time": "2025-03-18T20:44:11.197221",
     "exception": false,
     "start_time": "2025-03-18T20:44:11.115144",
     "status": "completed"
    },
    "tags": []
   },
   "outputs": [],
   "source": [
    "dataset_base_path = './Plant disease dataset/' \n",
    "\n",
    "# Define the paths for Train, Test, and Validation sets within this dataset\n",
    "train_path_ds = os.path.join(dataset_base_path, 'Train')\n",
    "test_path_ds = os.path.join(dataset_base_path, 'Test')\n",
    "validation_path_ds = os.path.join(dataset_base_path, 'Validation')\n",
    "\n",
    "# Determine categories (assuming they are subfolders in the Train directory)\n",
    "categories_ds = []\n",
    "if os.path.exists(train_path_ds) and os.path.isdir(train_path_ds):\n",
    "    try:\n",
    "        # Get subdirectories and sort them\n",
    "        categories_ds = sorted([d for d in os.listdir(train_path_ds) if os.path.isdir(os.path.join(train_path_ds, d))])\n",
    "        print(f\"Categories found in '{train_path_ds}': {categories_ds}\")\n",
    "    except Exception as e:\n",
    "         print(f\"Error listing categories in {train_path_ds}: {e}\")\n",
    "         categories_ds = [] # Important: Reset categories on error\n",
    "         print(f\"Could not determine categories due to error.\")\n",
    "else:\n",
    "    print(f\"Warning: Training path for this dataset not found or not a directory at '{train_path_ds}'\")\n",
    "    categories_ds = [] # No categories if path doesn't exist\n",
    "\n",
    "# Function to check and print the number of images in each category\n",
    "# Renamed to avoid conflict if the main check_image_counts exists elsewhere\n",
    "def check_image_counts_specific_ds(path, set_name, categories):\n",
    "    print(f\"\\nChecking {set_name} set at '{path}':\")\n",
    "    if not categories:\n",
    "        print(\"  Skipping count check as categories were not determined.\")\n",
    "        return\n",
    "    if not os.path.exists(path) or not os.path.isdir(path):\n",
    "        print(f\"  Warning: Path does not exist or is not a directory.\")\n",
    "        return\n",
    "\n",
    "    for category in categories:\n",
    "        category_path = os.path.join(path, category)\n",
    "        if os.path.exists(category_path) and os.path.isdir(category_path):\n",
    "            try:\n",
    "                # Count only files, ignore subdirectories\n",
    "                num_images = len([f for f in os.listdir(category_path) if os.path.isfile(os.path.join(category_path, f))])\n",
    "                print(f\"  {category}: {num_images} images\")\n",
    "            except Exception as e:\n",
    "                print(f\"  Error counting images in {category_path}: {e}\")\n",
    "        else:\n",
    "            print(f\"  Warning: Category path '{category_path}' not found or not a directory.\")\n",
    "\n",
    "# Check the counts only if categories were successfully determined\n",
    "if categories_ds:\n",
    "    check_image_counts_specific_ds(train_path_ds, 'Train (Plant disease dataset)', categories_ds)\n",
    "    check_image_counts_specific_ds(test_path_ds, 'Test (Plant disease dataset)', categories_ds)\n",
    "    check_image_counts_specific_ds(validation_path_ds, 'Validation (Plant disease dataset)', categories_ds)\n",
    "elif os.path.exists(dataset_base_path):\n",
    "     print(f\"\\nSkipping image count checks for '{dataset_base_path}' because categories could not be determined (e.g., missing Train subfolder or read error).\")\n",
    "# No message if the base path itself doesn't exist, as the earlier warning covers it.\n"
   ]
  },
  {
   "cell_type": "markdown",
   "id": "605139ac",
   "metadata": {
    "papermill": {
     "duration": 0.003747,
     "end_time": "2025-03-18T20:44:11.205226",
     "exception": false,
     "start_time": "2025-03-18T20:44:11.201479",
     "status": "completed"
    },
    "tags": []
   },
   "source": [
    "**Step 2: *Data Understanding***"
   ]
  },
  {
   "cell_type": "code",
   "execution_count": null,
   "id": "c9623a02",
   "metadata": {
    "execution": {
     "iopub.execute_input": "2025-03-18T20:44:11.214594Z",
     "iopub.status.busy": "2025-03-18T20:44:11.214204Z",
     "iopub.status.idle": "2025-03-18T20:44:28.189286Z",
     "shell.execute_reply": "2025-03-18T20:44:28.188141Z"
    },
    "papermill": {
     "duration": 16.989856,
     "end_time": "2025-03-18T20:44:28.199080",
     "exception": false,
     "start_time": "2025-03-18T20:44:11.209224",
     "status": "completed"
    },
    "tags": []
   },
   "outputs": [],
   "source": [
    "# Define dataset paths (updated paths)\n",
    "dataset_paths = {\n",
    "    \"Dataset 1\": \"./Train\",\n",
    "    \"Dataset 2\": \"./Plant disease dataset/Train\"\n",
    "}\n",
    "\n",
    "# Categories in the dataset (Healthy, Rust, Powdery)\n",
    "categories = ['Healthy', 'Powdery', 'Rust']\n",
    "\n",
    "# Function to display sample images from each category\n",
    "def display_sample_images(dataset_name, path, category, num_images=3):\n",
    "    category_path = os.path.join(path, category)\n",
    "    \n",
    "    if not os.path.exists(category_path):  # Ensure category exists\n",
    "        print(f\"Warning: {category_path} not found in {dataset_name}!\")\n",
    "        return\n",
    "    \n",
    "    images = os.listdir(category_path)\n",
    "    \n",
    "    if len(images) < num_images:  # Ensure enough images are available\n",
    "        print(f\"Warning: Not enough images in {category_path} for sampling!\")\n",
    "        num_images = len(images)  # Adjust to available images\n",
    "    \n",
    "    sample_images = random.sample(images, num_images) if images else []\n",
    "    \n",
    "    fig, axes = plt.subplots(1, num_images, figsize=(15, 5))\n",
    "    fig.suptitle(f\"{dataset_name} - {category}\", fontsize=14)\n",
    "    \n",
    "    for i, image_file in enumerate(sample_images):\n",
    "        img = Image.open(os.path.join(category_path, image_file))\n",
    "        axes[i].imshow(img)\n",
    "        axes[i].axis('off')\n",
    "        axes[i].set_title(f\"Sample {i+1}\")\n",
    "    \n",
    "    plt.show()\n",
    "\n",
    "# Iterate through both datasets and display sample images for each category\n",
    "for dataset_name, train_path in dataset_paths.items():\n",
    "    print(f\"\\nDisplaying sample images from {dataset_name} Training Set:\\n\")\n",
    "    for category in categories:\n",
    "        display_sample_images(dataset_name, train_path, category)\n"
   ]
  },
  {
   "cell_type": "markdown",
   "id": "b5a34d7b",
   "metadata": {
    "papermill": {
     "duration": 0.084935,
     "end_time": "2025-03-18T20:44:28.370107",
     "exception": false,
     "start_time": "2025-03-18T20:44:28.285172",
     "status": "completed"
    },
    "tags": []
   },
   "source": [
    "**Step 3: *Data Cleaning***"
   ]
  },
  {
   "cell_type": "code",
   "execution_count": null,
   "id": "e78e7527",
   "metadata": {
    "execution": {
     "iopub.execute_input": "2025-03-18T20:44:28.531962Z",
     "iopub.status.busy": "2025-03-18T20:44:28.531564Z",
     "iopub.status.idle": "2025-03-18T20:45:02.664601Z",
     "shell.execute_reply": "2025-03-18T20:45:02.663157Z"
    },
    "papermill": {
     "duration": 34.21614,
     "end_time": "2025-03-18T20:45:02.666550",
     "exception": false,
     "start_time": "2025-03-18T20:44:28.450410",
     "status": "completed"
    },
    "tags": []
   },
   "outputs": [],
   "source": [
    "# Define dataset paths (including train, test, and validation)\n",
    "dataset_paths = {\n",
    "    \"Dataset 1\": \"./\",\n",
    "    \"Dataset 2\": \"./Plant disease dataset\"\n",
    "}\n",
    "\n",
    "# Define the subdirectories for each dataset (specific paths for each dataset)\n",
    "data_types_1 = [\"Train/\", \"Test/\", \"Validation/\"]  # Dataset 1 structure\n",
    "data_types_2 = [\"Train\", \"Test\", \"Validation\"]  # Dataset 2 structure\n",
    "\n",
    "# Categories in the dataset (Healthy, Powdery, Rust)\n",
    "categories = ['Healthy', 'Powdery', 'Rust']\n",
    "\n",
    "# Function to check for corrupted images\n",
    "def check_corrupted_images(dataset_name, path, categories, data_type):\n",
    "    corrupted_images = []\n",
    "    for category in categories:\n",
    "        # Handling dataset 1 (nested \"Train/Train\", \"Test/Test\", etc.)\n",
    "        if dataset_name == \"Dataset 1\":\n",
    "            category_path = os.path.join(path, data_type, category)  # For Dataset 1\n",
    "        # Handling dataset 2 (non-nested \"Train\", \"Test\", \"Validation\")\n",
    "        elif dataset_name == \"Dataset 2\":\n",
    "            category_path = os.path.join(path, data_type, category)  # For Dataset 2\n",
    "        \n",
    "        if not os.path.exists(category_path):\n",
    "            print(f\"Warning: {category_path} not found in {dataset_name}!\")\n",
    "            continue\n",
    "        \n",
    "        for image_name in os.listdir(category_path):\n",
    "            img_path = os.path.join(category_path, image_name)\n",
    "            \n",
    "            try:\n",
    "                img = Image.open(img_path)  # Try to open the image\n",
    "                img.verify()  # Verify the image file\n",
    "            except (IOError, SyntaxError) as e:\n",
    "                corrupted_images.append(img_path)  # If error occurs, add to list\n",
    "\n",
    "    # Print results\n",
    "    if corrupted_images:\n",
    "        print(f\"\\nCorrupted images found in {dataset_name}: {len(corrupted_images)}\")\n",
    "        for img_path in corrupted_images:\n",
    "            print(f\"  Corrupted image: {img_path}\")\n",
    "    else:\n",
    "        print(f\"\\nNo corrupted images found in {dataset_name}.\")\n",
    "\n",
    "# Iterate over datasets and check for corrupted images in Train, Test, and Validation sets\n",
    "for dataset_name, dataset_path in dataset_paths.items():\n",
    "    print(f\"\\nChecking for corrupted images in {dataset_name}:\")\n",
    "    if dataset_name == \"Dataset 1\":\n",
    "        # Dataset 1 has nested \"Train/Train\", \"Test/Test\", etc.\n",
    "        data_types = data_types_1\n",
    "    else:\n",
    "        # Dataset 2 has flat \"Train\", \"Test\", \"Validation\"\n",
    "        data_types = data_types_2\n",
    "        \n",
    "    for data_type in data_types:\n",
    "        print(f\"\\nChecking {data_type} set:\")\n",
    "        check_corrupted_images(dataset_name, dataset_path, categories, data_type)\n"
   ]
  },
  {
   "cell_type": "markdown",
   "id": "d9e643e3",
   "metadata": {
    "papermill": {
     "duration": 0.080004,
     "end_time": "2025-03-18T20:45:02.826766",
     "exception": false,
     "start_time": "2025-03-18T20:45:02.746762",
     "status": "completed"
    },
    "tags": []
   },
   "source": [
    "**Step 4: *Data Visualization***"
   ]
  },
  {
   "cell_type": "code",
   "execution_count": null,
   "id": "32201846",
   "metadata": {
    "execution": {
     "iopub.execute_input": "2025-03-18T20:45:02.993382Z",
     "iopub.status.busy": "2025-03-18T20:45:02.992803Z",
     "iopub.status.idle": "2025-03-18T20:45:07.643044Z",
     "shell.execute_reply": "2025-03-18T20:45:07.641693Z"
    },
    "papermill": {
     "duration": 4.764619,
     "end_time": "2025-03-18T20:45:07.675593",
     "exception": false,
     "start_time": "2025-03-18T20:45:02.910974",
     "status": "completed"
    },
    "tags": []
   },
   "outputs": [],
   "source": [
    "# Define dataset paths (including train, test, and validation)\n",
    "dataset_paths = {\n",
    "    \"Dataset 1\": \"./\",\n",
    "    \"Dataset 2\": \"./Plant disease dataset\"\n",
    "}\n",
    "\n",
    "# Define the subdirectories for each dataset (specific paths for each dataset)\n",
    "data_types_1 = [\"Train/\", \"Test/\", \"Validation/\"]  # Dataset 1 structure\n",
    "data_types_2 = [\"Train\", \"Test\", \"Validation\"]  # Dataset 2 structure\n",
    "\n",
    "# Categories in the dataset (Healthy, Powdery, Rust)\n",
    "categories = ['Healthy', 'Powdery', 'Rust']\n",
    "\n",
    "# Function to get the count of images in each category\n",
    "def get_category_counts(dataset_name, path, categories, data_type):\n",
    "    counts = {category: 0 for category in categories}\n",
    "    for category in categories:\n",
    "        # Handling dataset 1 (nested \"Train/Train\", \"Test/Test\", etc.)\n",
    "        if dataset_name == \"Dataset 1\":\n",
    "            category_path = os.path.join(path, data_type, category)\n",
    "        # Handling dataset 2 (non-nested \"Train\", \"Test\", \"Validation\")\n",
    "        elif dataset_name == \"Dataset 2\":\n",
    "            category_path = os.path.join(path, data_type, category)\n",
    "        \n",
    "        if os.path.exists(category_path):\n",
    "            counts[category] = len(os.listdir(category_path))\n",
    "    return counts\n",
    "\n",
    "# Function to display sample images from each category\n",
    "def display_sample_images(dataset_name, path, categories, data_type):\n",
    "    plt.figure(figsize=(12, 12))\n",
    "    for idx, category in enumerate(categories):\n",
    "        # Handling dataset 1 (nested \"Train/Train\", \"Test/Test\", etc.)\n",
    "        if dataset_name == \"Dataset 1\":\n",
    "            category_path = os.path.join(path, data_type, category)\n",
    "        # Handling dataset 2 (non-nested \"Train\", \"Test\", \"Validation\")\n",
    "        elif dataset_name == \"Dataset 2\":\n",
    "            category_path = os.path.join(path, data_type, category)\n",
    "        \n",
    "        if os.path.exists(category_path):\n",
    "            image_list = os.listdir(category_path)\n",
    "            sample_images = random.sample(image_list, 3)  # Show 3 random images from each category\n",
    "            \n",
    "            for i, img_name in enumerate(sample_images):\n",
    "                img_path = os.path.join(category_path, img_name)\n",
    "                img = Image.open(img_path)\n",
    "                plt.subplot(len(categories), 3, idx * 3 + i + 1)\n",
    "                plt.imshow(img)\n",
    "                plt.title(f\"{category} {i+1}\")\n",
    "                plt.axis('off')\n",
    "    \n",
    "    plt.tight_layout()\n",
    "    plt.show()\n",
    "\n",
    "# Iterate over datasets and visualize the data\n",
    "for dataset_name, dataset_path in dataset_paths.items():\n",
    "    print(f\"\\nVisualizing data for {dataset_name}:\")\n",
    "\n",
    "    # 1. Image Count per Category (Train, Test, Validation)\n",
    "    plt.figure(figsize=(10, 6))\n",
    "    for data_type in (data_types_1 if dataset_name == \"Dataset 1\" else data_types_2):\n",
    "        counts = get_category_counts(dataset_name, dataset_path, categories, data_type)\n",
    "        sns.barplot(x=list(counts.keys()), y=list(counts.values()))\n",
    "        plt.title(f\"{data_type} Set - {dataset_name}\")\n",
    "        plt.xlabel(\"Category\")\n",
    "        plt.ylabel(\"Number of Images\")\n",
    "        plt.show()\n",
    "\n",
    "    # 2. Display Sample Images from each category in the Train set\n",
    "    print(f\"Displaying sample images from {dataset_name} Train set:\")\n",
    "    display_sample_images(dataset_name, dataset_path, categories, \"Train\")\n"
   ]
  },
  {
   "cell_type": "markdown",
   "id": "e354cda8",
   "metadata": {
    "papermill": {
     "duration": 0.136175,
     "end_time": "2025-03-18T20:45:07.949345",
     "exception": false,
     "start_time": "2025-03-18T20:45:07.813170",
     "status": "completed"
    },
    "tags": []
   },
   "source": [
    "**Step 5: *Data Augmentation***"
   ]
  },
  {
   "cell_type": "code",
   "execution_count": null,
   "id": "32bfd8a9",
   "metadata": {
    "execution": {
     "iopub.execute_input": "2025-03-18T20:45:08.215126Z",
     "iopub.status.busy": "2025-03-18T20:45:08.214734Z",
     "iopub.status.idle": "2025-03-18T20:45:33.070565Z",
     "shell.execute_reply": "2025-03-18T20:45:33.069415Z"
    },
    "papermill": {
     "duration": 25.025438,
     "end_time": "2025-03-18T20:45:33.106218",
     "exception": false,
     "start_time": "2025-03-18T20:45:08.080780",
     "status": "completed"
    },
    "tags": []
   },
   "outputs": [],
   "source": [
    "# Define dataset paths (Train)\n",
    "dataset_paths = {\n",
    "    \"Dataset 1\": \"./\",\n",
    "    \"Dataset 2\": \"./Plant disease dataset/\"\n",
    "}\n",
    "\n",
    "# Categories in the dataset (Healthy, Powdery, Rust)\n",
    "categories = ['Healthy', 'Powdery', 'Rust']\n",
    "\n",
    "# Augmentation settings using ImageDataGenerator\n",
    "datagen = ImageDataGenerator(\n",
    "    rotation_range=40,   # Random rotation up to 40 degrees\n",
    "    horizontal_flip=True # Random horizontal flip\n",
    ")\n",
    "\n",
    "# Function to augment and display images\n",
    "def augment_and_display_images(dataset_name, path, categories, data_type, num_images=3):\n",
    "    plt.figure(figsize=(12, 12))\n",
    "    \n",
    "    for idx, category in enumerate(categories):\n",
    "        # Get category path for Dataset 1 and Dataset 2\n",
    "        category_path = os.path.join(path, data_type, category) if dataset_name == \"Dataset 1\" else os.path.join(path, data_type, category)\n",
    "        \n",
    "        if os.path.exists(category_path):\n",
    "            image_list = os.listdir(category_path)\n",
    "            sample_images = random.sample(image_list, num_images)  # Select 3 random images\n",
    "\n",
    "            for i, img_name in enumerate(sample_images):\n",
    "                img_path = os.path.join(category_path, img_name)\n",
    "                img = Image.open(img_path)\n",
    "                img_array = img_to_array(img)  # Convert image to array\n",
    "\n",
    "                # Reshape image for ImageDataGenerator (expects 4D tensor: (1, height, width, channels))\n",
    "                img_array = img_array.reshape((1,) + img_array.shape)\n",
    "\n",
    "                # Generate augmented images and display\n",
    "                for j, batch in enumerate(datagen.flow(img_array, batch_size=1)):\n",
    "                    augmented_img = batch[0].astype('uint8')  # Convert to uint8 for display\n",
    "                    plt.subplot(len(categories), num_images, idx * num_images + i + 1)\n",
    "                    plt.imshow(augmented_img)\n",
    "                    plt.title(f\"{category} Aug {i+1}\")\n",
    "                    plt.axis('off')\n",
    "                    if j >= 2:  # Stop after 3 augmented images\n",
    "                        break\n",
    "    \n",
    "    plt.tight_layout()\n",
    "    plt.show()\n",
    "\n",
    "# Apply data augmentation and display augmented images\n",
    "for dataset_name, dataset_path in dataset_paths.items():\n",
    "    print(f\"\\nPerforming data augmentation for {dataset_name}:\")\n",
    "    augment_and_display_images(dataset_name, dataset_path, categories, \"Train\")\n"
   ]
  },
  {
   "cell_type": "markdown",
   "id": "2eaa0d3d",
   "metadata": {
    "papermill": {
     "duration": 0.176749,
     "end_time": "2025-03-18T20:45:33.469527",
     "exception": false,
     "start_time": "2025-03-18T20:45:33.292778",
     "status": "completed"
    },
    "tags": []
   },
   "source": [
    "### Data Insights (Summary, Results, Findings)\n",
    "\n",
    "After working with the dataset, I gained some valuable insights that will guide the next steps in the project. Here's a summary of the findings:\n",
    "\n",
    "#### 1. **Dataset Summary**:\n",
    "   - The dataset consists of three categories: **Healthy**, **Powdery**, and **Rust**. These represent different plant leaf diseases, and I plan to add more disease categories in the future to improve the model's versatility.\n",
    "   - The data is divided into **Train**, **Test**, and **Validation** sets, ensuring that I have separate data for training the model, evaluating its performance, and validating its predictions.\n",
    "\n",
    "#### 2. **Data Quality**:\n",
    "   - I checked the dataset for any corrupted images, and luckily, there were no issues found in the `Train`, `Test`, and `Validation` sets. This means the images are all good to go for model training.\n",
    "   - I also had to adjust for structural differences between the two datasets I used. Dataset 1 had a nested folder structure (e.g., `Train/Train`), while Dataset 2 had a simpler structure. I handled these differences in the code to ensure smooth image loading.\n",
    "\n",
    "#### 3. **Data Augmentation**:\n",
    "   - To help the model generalize better, I applied basic **image augmentations** to the training images, such as:\n",
    "     - **Rotation** (up to 40 degrees)\n",
    "     - **Horizontal Flip**\n",
    "   - The idea behind this is to increase the variability in the training data so that the model can learn to recognize plant diseases under different conditions, improving its ability to handle real-world scenarios.\n",
    "\n",
    "#### 4. **Data Visualization**:\n",
    "   - I visualized some augmented images to see how the transformations (rotation and flipping) look. These augmentations add variety to the data, which is crucial for training a robust model.\n",
    "   - This step is useful for understanding how data augmentation affects the images and ensures that the model won't overfit to specific image patterns.\n",
    "\n",
    "#### 5. **Insights from Augmented Data**:\n",
    "   - **Increased Variety**: The augmentation allows the model to see different versions of the same images, helping it learn to recognize key features of the disease rather than memorizing the image.\n",
    "   - **Better Generalization**: By showing the model rotated and flipped versions of the images, I’m helping it generalize better to new, unseen images, which is especially important when working with real-world data.\n",
    "   - **Balancing Data**: If some categories (like Rust or Powdery) have fewer images, augmentation helps create a more balanced dataset for training, ensuring that the model doesn't favor one category over another.\n",
    "\n",
    "#### 6. **Potential Challenges**:\n",
    "   - **Class Imbalance**: If certain categories have fewer images, the model could become biased toward the overrepresented classes. While augmentation helps, I will need to keep an eye on this during training and may consider additional techniques like class weighting.\n",
    "   - **Over-augmentation**: It’s important not to overdo it with augmentation (e.g., excessive rotations), as it could distort the images too much and make them unrealistic for real-world predictions. I’ll have to monitor this carefully.\n",
    "\n",
    "### Key Takeaways:\n",
    "- **Clean Dataset**: The dataset is ready for training, and I’ve ensured that there are no corrupted images.\n",
    "- **Increased Data Variability**: Augmentation has successfully created more diverse training images, which should help improve the model's performance.\n",
    "- **Balanced Representation**: I’ve made sure that the data augmentation helps address potential class imbalance, though this will need monitoring during model training.\n",
    "\n",
    "### Next Steps:\n",
    "- **Model Training**: I’ll proceed with training a model using the augmented data, and I’ll validate its performance on the test and validation sets to see how well it generalizes.\n",
    "- **Adding More Diseases**: As part of future improvements, I plan to add other types of plant diseases to the dataset, expanding the model's capabilities to recognize more conditions.\n",
    "- **Further Monitoring**: I’ll continue to keep an eye on class balance and might adjust the model or augmentations as needed to improve performance.\n",
    "\n"
   ]
  }
 ],
 "metadata": {
  "kaggle": {
   "accelerator": "none",
   "dataSources": [
    {
     "datasetId": 1447507,
     "sourceId": 2394131,
     "sourceType": "datasetVersion"
    },
    {
     "datasetId": 6890418,
     "sourceId": 11059194,
     "sourceType": "datasetVersion"
    }
   ],
   "dockerImageVersionId": 30918,
   "isGpuEnabled": false,
   "isInternetEnabled": false,
   "language": "python",
   "sourceType": "notebook"
  },
  "kernelspec": {
   "display_name": ".venv",
   "language": "python",
   "name": "python3"
  },
  "language_info": {
   "codemirror_mode": {
    "name": "ipython",
    "version": 3
   },
   "file_extension": ".py",
   "mimetype": "text/x-python",
   "name": "python",
   "nbconvert_exporter": "python",
   "pygments_lexer": "ipython3",
   "version": "3.12.3"
  },
  "papermill": {
   "default_parameters": {},
   "duration": 89.984608,
   "end_time": "2025-03-18T20:45:35.264620",
   "environment_variables": {},
   "exception": null,
   "input_path": "__notebook__.ipynb",
   "output_path": "__notebook__.ipynb",
   "parameters": {},
   "start_time": "2025-03-18T20:44:05.280012",
   "version": "2.6.0"
  }
 },
 "nbformat": 4,
 "nbformat_minor": 5
}
